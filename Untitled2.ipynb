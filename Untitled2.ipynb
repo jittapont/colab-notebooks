{
  "nbformat": 4,
  "nbformat_minor": 0,
  "metadata": {
    "colab": {
      "name": "Untitled2.ipynb",
      "provenance": [],
      "collapsed_sections": [],
      "authorship_tag": "ABX9TyNagHiDQIRjH6EI6TsJqoep",
      "include_colab_link": true
    },
    "kernelspec": {
      "name": "python3",
      "display_name": "Python 3"
    },
    "language_info": {
      "name": "python"
    }
  },
  "cells": [
    {
      "cell_type": "markdown",
      "metadata": {
        "id": "view-in-github",
        "colab_type": "text"
      },
      "source": [
        "<a href=\"https://colab.research.google.com/github/jittapont/colab-notebooks/blob/main/Untitled2.ipynb\" target=\"_parent\"><img src=\"https://colab.research.google.com/assets/colab-badge.svg\" alt=\"Open In Colab\"/></a>"
      ]
    },
    {
      "cell_type": "code",
      "metadata": {
        "id": "M4BgT9PxzRVo"
      },
      "source": [
        "def growing_plant(upSpeed, downSpeed, desiredHeight):\n",
        "    count = 0\n",
        "    h = 0\n",
        "    while True:\n",
        "        count += 1\n",
        "        h += upSpeed\n",
        "        if h >= desiredHeight:\n",
        "            return count\n",
        "        h -= downSpeed"
      ],
      "execution_count": null,
      "outputs": []
    },
    {
      "cell_type": "code",
      "metadata": {
        "colab": {
          "base_uri": "https://localhost:8080/"
        },
        "id": "ZoFQ8h9uzS3E",
        "outputId": "0970b551-58ef-429b-c34c-0ecb9f1f3b19"
      },
      "source": [
        "growing_plant(5,2,6)"
      ],
      "execution_count": null,
      "outputs": [
        {
          "output_type": "execute_result",
          "data": {
            "text/plain": [
              "2"
            ]
          },
          "metadata": {
            "tags": []
          },
          "execution_count": 6
        }
      ]
    },
    {
      "cell_type": "code",
      "metadata": {
        "id": "9KuCe7m0zYj7"
      },
      "source": [
        "def last(*it):\n",
        "    print(it, it[0][-1] if type(it[0]) == list else it[-1])\n",
        "    return it[0][-1] if type(it[0]) == list else it[-1]"
      ],
      "execution_count": null,
      "outputs": []
    },
    {
      "cell_type": "code",
      "metadata": {
        "colab": {
          "base_uri": "https://localhost:8080/"
        },
        "id": "mmBjQ0Dt1P2_",
        "outputId": "4cf88f43-60f1-4bf7-e9dc-b26a1e845c99"
      },
      "source": [
        "sum = 100\n",
        "for i in range(1, 23):\n",
        "    sum += 10 * 0.95 ** i\n",
        "sum"
      ],
      "execution_count": null,
      "outputs": [
        {
          "output_type": "execute_result",
          "data": {
            "text/plain": [
              "228.52862645499525"
            ]
          },
          "metadata": {
            "tags": []
          },
          "execution_count": 27
        }
      ]
    },
    {
      "cell_type": "code",
      "metadata": {
        "id": "xdCeiZZj3Cbt"
      },
      "source": [
        "from math import ceil\n",
        "\n",
        "def movie(card, ticket, perc):\n",
        "    sum = card\n",
        "    num = 1\n",
        "    while True:\n",
        "        sum += ticket * (perc ** num)\n",
        "        if ceil(sum) <= ticket * num:\n",
        "            return num\n",
        "        num += 1"
      ],
      "execution_count": null,
      "outputs": []
    },
    {
      "cell_type": "code",
      "metadata": {
        "id": "UjrsIcIe3G1H"
      },
      "source": [
        "def last(*it):\n",
        "    print(it, len(it))\n",
        "    if len(it) > 1:\n",
        "        return it[-1]\n",
        "    if len(it) == 1 and hasattr(it[0], '__getitem__'):\n",
        "        return it[0][-1]\n",
        "    else:\n",
        "        return it[-1]"
      ],
      "execution_count": null,
      "outputs": []
    },
    {
      "cell_type": "code",
      "metadata": {
        "colab": {
          "base_uri": "https://localhost:8080/"
        },
        "id": "8hSAG8E-6-SU",
        "outputId": "f874018f-f98a-4192-aa49-943a06f58ef3"
      },
      "source": [
        "print(last([1,2,3,4,5]))\n",
        "print(last(\"abcde\"))\n",
        "print(last(1, \"b\", 3, \"d\", 5))\n",
        "print(last(1))"
      ],
      "execution_count": null,
      "outputs": [
        {
          "output_type": "stream",
          "text": [
            "([1, 2, 3, 4, 5],) 1\n",
            "5\n",
            "('abcde',) 1\n",
            "e\n",
            "(1, 'b', 3, 'd', 5) 5\n",
            "5\n",
            "(1,) 1\n",
            "1\n"
          ],
          "name": "stdout"
        }
      ]
    },
    {
      "cell_type": "code",
      "metadata": {
        "id": "2UuP-8u2CUa8"
      },
      "source": [
        "def first_non_consecutive(arr):\n",
        "    print(arr)\n",
        "    diff = arr[1] - arr[0]\n",
        "    for a, b in zip(arr, arr[1:]):\n",
        "        if (b - a) != diff:\n",
        "            return a\n",
        "    return None"
      ],
      "execution_count": null,
      "outputs": []
    },
    {
      "cell_type": "code",
      "metadata": {
        "colab": {
          "base_uri": "https://localhost:8080/"
        },
        "id": "ZDZ-dbfEClG-",
        "outputId": "05eeb07d-f283-4fea-a665-5637d55550a3"
      },
      "source": [
        "first_non_consecutive([4, 6, 7, 8, 9, 11])"
      ],
      "execution_count": null,
      "outputs": [
        {
          "output_type": "stream",
          "text": [
            "[4, 6, 7, 8, 9, 11]\n"
          ],
          "name": "stdout"
        },
        {
          "output_type": "execute_result",
          "data": {
            "text/plain": [
              "6"
            ]
          },
          "metadata": {
            "tags": []
          },
          "execution_count": 64
        }
      ]
    },
    {
      "cell_type": "code",
      "metadata": {
        "id": "-DYH5E2wEBND"
      },
      "source": [
        "l = [1, 2, 3, 0, 5, 0, 9, 0]"
      ],
      "execution_count": null,
      "outputs": []
    },
    {
      "cell_type": "code",
      "metadata": {
        "colab": {
          "base_uri": "https://localhost:8080/"
        },
        "id": "wxhA3A7PEn5O",
        "outputId": "40925788-6a36-42da-a2be-747279a96622"
      },
      "source": [
        "l.pop(l.index(0))"
      ],
      "execution_count": null,
      "outputs": [
        {
          "output_type": "execute_result",
          "data": {
            "text/plain": [
              "0"
            ]
          },
          "metadata": {
            "tags": []
          },
          "execution_count": 6
        }
      ]
    },
    {
      "cell_type": "code",
      "metadata": {
        "colab": {
          "base_uri": "https://localhost:8080/"
        },
        "id": "rNwqfJE1EtUc",
        "outputId": "b55bdfea-8637-4881-d08e-dd277ce78500"
      },
      "source": [
        "23 * 3600 + 59 * 60 + 59"
      ],
      "execution_count": null,
      "outputs": [
        {
          "output_type": "execute_result",
          "data": {
            "text/plain": [
              "86399"
            ]
          },
          "metadata": {
            "tags": []
          },
          "execution_count": 20
        }
      ]
    },
    {
      "cell_type": "code",
      "metadata": {
        "colab": {
          "base_uri": "https://localhost:8080/"
        },
        "id": "xbfzVBY4LFS9",
        "outputId": "1432dab9-b733-446a-bbe8-3149907f73db"
      },
      "source": [
        "86399//3600"
      ],
      "execution_count": null,
      "outputs": [
        {
          "output_type": "execute_result",
          "data": {
            "text/plain": [
              "23"
            ]
          },
          "metadata": {
            "tags": []
          },
          "execution_count": 22
        }
      ]
    },
    {
      "cell_type": "code",
      "metadata": {
        "colab": {
          "base_uri": "https://localhost:8080/"
        },
        "id": "Ywrs0v2bLL3H",
        "outputId": "2c4e0750-9eda-4af8-f61e-1f8f6e45ece8"
      },
      "source": [
        "(86399 - 23 * 3600)//60"
      ],
      "execution_count": null,
      "outputs": [
        {
          "output_type": "execute_result",
          "data": {
            "text/plain": [
              "59"
            ]
          },
          "metadata": {
            "tags": []
          },
          "execution_count": 27
        }
      ]
    },
    {
      "cell_type": "code",
      "metadata": {
        "id": "YBtNxvpXLlAn"
      },
      "source": [
        "names = ['Bart', 'Lisa', 'Maggie']"
      ],
      "execution_count": null,
      "outputs": []
    },
    {
      "cell_type": "code",
      "metadata": {
        "colab": {
          "base_uri": "https://localhost:8080/"
        },
        "id": "6WG6Ei_2NUKj",
        "outputId": "52f8164d-5a20-40d2-ae0d-c04bf6096576"
      },
      "source": [
        "for i in ['a','b','c','d','f']:\n",
        "    print(ord(i))"
      ],
      "execution_count": null,
      "outputs": [
        {
          "output_type": "stream",
          "text": [
            "97\n",
            "98\n",
            "99\n",
            "100\n",
            "102\n"
          ],
          "name": "stdout"
        }
      ]
    },
    {
      "cell_type": "code",
      "metadata": {
        "colab": {
          "base_uri": "https://localhost:8080/"
        },
        "id": "ENBd224OQ96l",
        "outputId": "290d5d3c-232a-4eaf-e5b4-88dee20bf32d"
      },
      "source": [
        "for i in range(ord(m1), ord(m2)+1):\n",
        "    if chr(i) not in ['a','b','c','d','f']:\n",
        "        print(chr(i))"
      ],
      "execution_count": null,
      "outputs": [
        {
          "output_type": "stream",
          "text": [
            "e\n"
          ],
          "name": "stdout"
        }
      ]
    },
    {
      "cell_type": "code",
      "metadata": {
        "id": "_sqSjguVQ0yg"
      },
      "source": [
        "import string"
      ],
      "execution_count": null,
      "outputs": []
    },
    {
      "cell_type": "code",
      "metadata": {
        "id": "OtEeCEmOXPrO"
      },
      "source": [
        "import re"
      ],
      "execution_count": null,
      "outputs": []
    },
    {
      "cell_type": "code",
      "metadata": {
        "id": "QAqE8y7UarT-"
      },
      "source": [
        "p = re.compile(\"\\d+\\.\\d+\\.\\d+\\.\\d+\")\n",
        "p1 = re.compile(\".+0\\d+.+\")"
      ],
      "execution_count": null,
      "outputs": []
    },
    {
      "cell_type": "code",
      "metadata": {
        "colab": {
          "base_uri": "https://localhost:8080/"
        },
        "id": "9f5tJuFPfmxO",
        "outputId": "be4a507b-98b9-4b6a-ad00-ec28c531161f"
      },
      "source": [
        "p1.match(\"123.045.067.089\")"
      ],
      "execution_count": null,
      "outputs": [
        {
          "output_type": "execute_result",
          "data": {
            "text/plain": [
              "<re.Match object; span=(0, 15), match='123.045.067.089'>"
            ]
          },
          "metadata": {
            "tags": []
          },
          "execution_count": 86
        }
      ]
    },
    {
      "cell_type": "code",
      "metadata": {
        "colab": {
          "base_uri": "https://localhost:8080/"
        },
        "id": "lAGKX2AdgM7_",
        "outputId": "cc619c35-b40b-495a-9203-3a13aea588a1"
      },
      "source": [
        "p.match(\"123.045.067.089\")"
      ],
      "execution_count": null,
      "outputs": [
        {
          "output_type": "execute_result",
          "data": {
            "text/plain": [
              "<re.Match object; span=(0, 15), match='123.045.067.089'>"
            ]
          },
          "metadata": {
            "tags": []
          },
          "execution_count": 81
        }
      ]
    },
    {
      "cell_type": "code",
      "metadata": {
        "id": "CL7l41kuP0nU"
      },
      "source": [
        "def re(s):\n",
        "    if \"()\" not in s:\n",
        "        return s\n",
        "    return re(s.replace(\"()\", \"\"))"
      ],
      "execution_count": null,
      "outputs": []
    },
    {
      "cell_type": "code",
      "metadata": {
        "colab": {
          "base_uri": "https://localhost:8080/",
          "height": 35
        },
        "id": "lMQ8XR5YQoRw",
        "outputId": "3dc7c6d4-825d-4b5e-c56e-b76fb98b9b23"
      },
      "source": [
        "re(\")(()))\")"
      ],
      "execution_count": null,
      "outputs": [
        {
          "output_type": "execute_result",
          "data": {
            "application/vnd.google.colaboratory.intrinsic+json": {
              "type": "string"
            },
            "text/plain": [
              "'))'"
            ]
          },
          "metadata": {
            "tags": []
          },
          "execution_count": 32
        }
      ]
    },
    {
      "cell_type": "code",
      "metadata": {
        "colab": {
          "base_uri": "https://localhost:8080/"
        },
        "id": "_k-O-LZGP6Rp",
        "outputId": "552369b4-97d5-4263-a21d-b27578f94aef"
      },
      "source": [
        "s = \"(())((()())())\"\n",
        "s = \")(()))\"\n",
        "\n",
        "for i in range(10):\n",
        "    s = s.replace(\"()\", \"\")\n",
        "print(s)"
      ],
      "execution_count": null,
      "outputs": [
        {
          "output_type": "stream",
          "text": [
            "))\n"
          ],
          "name": "stdout"
        }
      ]
    },
    {
      "cell_type": "code",
      "metadata": {
        "colab": {
          "base_uri": "https://localhost:8080/",
          "height": 35
        },
        "id": "OVo7uLRfQPMo",
        "outputId": "808a2680-5aa4-4cce-a1cf-f81d2acf455e"
      },
      "source": [
        "s.replace(\"()\", \"\")"
      ],
      "execution_count": null,
      "outputs": [
        {
          "output_type": "execute_result",
          "data": {
            "application/vnd.google.colaboratory.intrinsic+json": {
              "type": "string"
            },
            "text/plain": [
              "'()(())'"
            ]
          },
          "metadata": {
            "tags": []
          },
          "execution_count": 13
        }
      ]
    },
    {
      "cell_type": "code",
      "metadata": {
        "id": "20qROprNRz53"
      },
      "source": [
        "import re\n",
        "\n",
        "def valid_parentheses(s):\n",
        "    s = re.sub(r'[^\\(\\)]', '', s)\n",
        "    while \"()\" in s:\n",
        "        s = s.replace(\"()\", \"\")\n",
        "    return len(s) == 0"
      ],
      "execution_count": null,
      "outputs": []
    },
    {
      "cell_type": "code",
      "metadata": {
        "colab": {
          "base_uri": "https://localhost:8080/"
        },
        "id": "ieQPaHaiSsGa",
        "outputId": "f1fe3bd1-2fb7-4155-bd8b-af3e53428d8f"
      },
      "source": [
        "valid_parentheses(\")))(((\")"
      ],
      "execution_count": null,
      "outputs": [
        {
          "output_type": "execute_result",
          "data": {
            "text/plain": [
              "False"
            ]
          },
          "metadata": {
            "tags": []
          },
          "execution_count": 61
        }
      ]
    },
    {
      "cell_type": "code",
      "metadata": {
        "id": "v4DHl_pgSStY"
      },
      "source": [
        "assert valid_parentheses(\"  (\") == False\n",
        "assert valid_parentheses(\")test\") == False\n",
        "assert valid_parentheses(\"\") == True\n",
        "assert valid_parentheses(\"hi())(\") == False\n",
        "assert valid_parentheses(\"hi(hi)()\") == True"
      ],
      "execution_count": null,
      "outputs": []
    },
    {
      "cell_type": "code",
      "metadata": {
        "id": "vowpniDwTnn0"
      },
      "source": [
        "def valid_parentheses(string):\n",
        "    cnt = 0\n",
        "    for char in string:\n",
        "        if char == '(': cnt += 1\n",
        "        if char == ')': cnt -= 1\n",
        "        if cnt < 0: return False\n",
        "    return True if cnt == 0 else False"
      ],
      "execution_count": null,
      "outputs": []
    },
    {
      "cell_type": "code",
      "metadata": {
        "colab": {
          "base_uri": "https://localhost:8080/"
        },
        "id": "BUPUd1CkTo6f",
        "outputId": "b207775b-b8f7-4af1-db39-ff1a84362e9d"
      },
      "source": [
        "valid_parentheses(\"()((\")"
      ],
      "execution_count": null,
      "outputs": [
        {
          "output_type": "execute_result",
          "data": {
            "text/plain": [
              "False"
            ]
          },
          "metadata": {
            "tags": []
          },
          "execution_count": 58
        }
      ]
    },
    {
      "cell_type": "code",
      "metadata": {
        "id": "VLyfilFuXiFQ"
      },
      "source": [
        "# TODO: complete this class\n",
        "import math\n",
        "\n",
        "class PaginationHelper:\n",
        "\n",
        "  # The constructor takes in an array of items and a integer indicating\n",
        "  # how many items fit within a single page\n",
        "  def __init__(self, collection, items_per_page):\n",
        "    self.collection = collection\n",
        "    self.items_per_page = items_per_page\n",
        "      \n",
        "  \n",
        "  # returns the number of items within the entire collection\n",
        "  def item_count(self):\n",
        "    return len(self.collection)\n",
        "      \n",
        "  \n",
        "  # returns the number of pages\n",
        "  def page_count(self):\n",
        "    return math.ceil(self.item_count()/self.items_per_page) \n",
        "      \n",
        "\t\n",
        "  # returns the number of items on the current page. page_index is zero based\n",
        "  # this method should return -1 for page_index values that are out of range\n",
        "  def page_item_count(self,page_index):\n",
        "    pg = self.page_count()\n",
        "    if page_index + 1 > pg:\n",
        "        return -1\n",
        "    if self.item_count() % self.items_per_page == 0:\n",
        "        return self.items_per_page\n",
        "    elif page_index + 1 == pg:\n",
        "        return self.item_count() % self.items_per_page\n",
        "    else:\n",
        "        return self.items_per_page        \n",
        "      \n",
        "  # determines what page an item is on. Zero based indexes.\n",
        "  # this method should return -1 for item_index values that are out of range\n",
        "  def page_index(self,item_index):\n",
        "    if item_index >= len(self.collection) - 1 or item_index < 0:\n",
        "        return -1\n",
        "    if item_index == 0:\n",
        "        return 0\n",
        "    return math.ceil(item_index/self.items_per_page) - 1\n",
        "      \n",
        "  "
      ],
      "execution_count": null,
      "outputs": []
    },
    {
      "cell_type": "code",
      "metadata": {
        "colab": {
          "base_uri": "https://localhost:8080/"
        },
        "id": "Cqx_pBeHXjzh",
        "outputId": "cb4e6533-acc3-49a5-82fb-d47c90719929"
      },
      "source": [
        "collection = range(1,25)\n",
        "print(list(collection))\n",
        "helper = PaginationHelper(collection, 10)"
      ],
      "execution_count": null,
      "outputs": [
        {
          "output_type": "stream",
          "text": [
            "[1, 2, 3, 4, 5, 6, 7, 8, 9, 10, 11, 12, 13, 14, 15, 16, 17, 18, 19, 20, 21, 22, 23, 24]\n"
          ],
          "name": "stdout"
        }
      ]
    },
    {
      "cell_type": "code",
      "metadata": {
        "colab": {
          "base_uri": "https://localhost:8080/"
        },
        "id": "bSQMMOiWXqYk",
        "outputId": "5fdbec79-e5f4-4180-a28e-2715312d864e"
      },
      "source": [
        "len(collection)"
      ],
      "execution_count": null,
      "outputs": [
        {
          "output_type": "execute_result",
          "data": {
            "text/plain": [
              "24"
            ]
          },
          "metadata": {
            "tags": []
          },
          "execution_count": 114
        }
      ]
    },
    {
      "cell_type": "code",
      "metadata": {
        "colab": {
          "base_uri": "https://localhost:8080/"
        },
        "id": "hFBMBmViZTC3",
        "outputId": "4eee88c2-c7c9-4ec0-eb08-5997dff035b5"
      },
      "source": [
        "helper.page_index(24)"
      ],
      "execution_count": null,
      "outputs": [
        {
          "output_type": "execute_result",
          "data": {
            "text/plain": [
              "-1"
            ]
          },
          "metadata": {
            "tags": []
          },
          "execution_count": 117
        }
      ]
    },
    {
      "cell_type": "code",
      "metadata": {
        "id": "La01tRoDXs9l"
      },
      "source": [
        "w = 'man i need a taxi up to ubud'"
      ],
      "execution_count": null,
      "outputs": []
    },
    {
      "cell_type": "code",
      "metadata": {
        "colab": {
          "base_uri": "https://localhost:8080/"
        },
        "id": "KBg17jFzc2RF",
        "outputId": "7b74e3da-42bf-4675-c7d8-f3308cea6817"
      },
      "source": [
        "ord('m') + ord('a') + ord('n')"
      ],
      "execution_count": null,
      "outputs": [
        {
          "output_type": "execute_result",
          "data": {
            "text/plain": [
              "316"
            ]
          },
          "metadata": {
            "tags": []
          },
          "execution_count": 125
        }
      ]
    },
    {
      "cell_type": "code",
      "metadata": {
        "id": "algVB3jccoST",
        "colab": {
          "base_uri": "https://localhost:8080/"
        },
        "outputId": "114528a2-06ce-40c4-c898-19b465e7b0c7"
      },
      "source": [
        "n = 70304\n",
        "l = len(str(n))\n",
        "n // 10**(l-1)"
      ],
      "execution_count": null,
      "outputs": [
        {
          "output_type": "execute_result",
          "data": {
            "text/plain": [
              "7"
            ]
          },
          "metadata": {
            "tags": []
          },
          "execution_count": 20
        }
      ]
    },
    {
      "cell_type": "code",
      "metadata": {
        "colab": {
          "base_uri": "https://localhost:8080/",
          "height": 103
        },
        "id": "m_2nfmKLY6y6",
        "outputId": "476d2d30-d9a8-486c-9d33-234fe9ddb878"
      },
      "source": [
        "n = 70304\n",
        "# n = 32\n",
        "# n = 4\n",
        "# n = 398070\n",
        "s = []\n",
        "for i in range(len(str(n)) - 1, 0, -1):\n",
        "    print(n, n // 10 ** i, i)\n",
        "    a = n // 10 ** i * 10 ** i\n",
        "    n = n % 10 ** i\n",
        "    if a != 0:\n",
        "        s.append(f\"{a}\")\n",
        "    if i == 1 and n != 0:\n",
        "        s.append(f\"{n}\")\n",
        "\" + \".join(s)"
      ],
      "execution_count": null,
      "outputs": [
        {
          "output_type": "stream",
          "text": [
            "70304 7 4\n",
            "304 0 3\n",
            "304 3 2\n",
            "4 0 1\n"
          ],
          "name": "stdout"
        },
        {
          "output_type": "execute_result",
          "data": {
            "application/vnd.google.colaboratory.intrinsic+json": {
              "type": "string"
            },
            "text/plain": [
              "'70000 + 300 + 4'"
            ]
          },
          "metadata": {
            "tags": []
          },
          "execution_count": 60
        }
      ]
    },
    {
      "cell_type": "code",
      "metadata": {
        "id": "dPyu_80jiRWy"
      },
      "source": [
        "def expanded_form(num):\n",
        "    num = list(str(num))\n",
        "    return ' + '.join(x + '0' * (len(num) - y - 1) for y,x in enumerate(num) if x != '0')"
      ],
      "execution_count": null,
      "outputs": []
    },
    {
      "cell_type": "code",
      "metadata": {
        "id": "3_IUeFR3ieHJ"
      },
      "source": [
        "def expanded_form(n):\n",
        "    result = []\n",
        "    for a in range(len(str(n)) - 1, -1, -1):\n",
        "        current = 10 ** a\n",
        "        quo, n = divmod(n, current)\n",
        "        if quo:\n",
        "            result.append(str(quo * current))\n",
        "    return ' + '.join(result)"
      ],
      "execution_count": null,
      "outputs": []
    },
    {
      "cell_type": "code",
      "metadata": {
        "colab": {
          "base_uri": "https://localhost:8080/",
          "height": 35
        },
        "id": "DMcFoH-Ii9tO",
        "outputId": "49cc122b-dc71-4408-b06d-7158a1dc5d30"
      },
      "source": [
        "l = [\"NORTH\", \"SOUTH\", \"SOUTH\", \"EAST\", \"WEST\", \"NORTH\", \"WEST\"]\n",
        "s = \"|\".join(l)\n",
        "s"
      ],
      "execution_count": null,
      "outputs": [
        {
          "output_type": "execute_result",
          "data": {
            "application/vnd.google.colaboratory.intrinsic+json": {
              "type": "string"
            },
            "text/plain": [
              "'NORTH|SOUTH|SOUTH|EAST|WEST|NORTH|WEST'"
            ]
          },
          "metadata": {
            "tags": []
          },
          "execution_count": 82
        }
      ]
    },
    {
      "cell_type": "code",
      "metadata": {
        "colab": {
          "base_uri": "https://localhost:8080/"
        },
        "id": "NLQm_yhRjFab",
        "outputId": "f50f3536-a5be-4f04-9439-28be9d885914"
      },
      "source": [
        "import re\n",
        "\n",
        "while (\"NORTH|SOUTH\" in s or \"SOUTH|NORTH\" in s or \"EAST|WEST\" in s or \"EAST|WEST\" in s):\n",
        "    s = re.sub(\"\\|+\", \"|\", s.replace(\"NORTH|SOUTH\", \"\").replace(\"SOUTH|NORTH\", \"\").replace(\"EAST|WEST\", \"\").replace(\"EAST|WEST\", \"\"))\n",
        "    print(s)\n",
        "[\n",
        " i\n",
        " for i in re.sub(\"\\|+\", \"|\", s).split(\"|\")\n",
        " if i\n",
        "]"
      ],
      "execution_count": null,
      "outputs": [
        {
          "output_type": "execute_result",
          "data": {
            "text/plain": [
              "['WEST']"
            ]
          },
          "metadata": {
            "tags": []
          },
          "execution_count": 85
        }
      ]
    },
    {
      "cell_type": "code",
      "metadata": {
        "id": "CzR2shRTlR-k"
      },
      "source": [
        "opposite = {'NORTH': 'SOUTH', 'EAST': 'WEST', 'SOUTH': 'NORTH', 'WEST': 'EAST'}\n",
        "\n",
        "def dirReduc(plan):\n",
        "    new_plan = []\n",
        "    for d in plan:\n",
        "        if new_plan and new_plan[-1] == opposite[d]:\n",
        "            new_plan.pop()\n",
        "        else:\n",
        "            new_plan.append(d)\n",
        "    return new_plan"
      ],
      "execution_count": null,
      "outputs": []
    },
    {
      "cell_type": "code",
      "metadata": {
        "id": "EeOLXkIGjyj9"
      },
      "source": [
        "def dirReduc(arr):\n",
        "    dir = \" \".join(arr)\n",
        "    dir2 = dir.replace(\"NORTH SOUTH\",'').replace(\"SOUTH NORTH\",'').replace(\"EAST WEST\",'').replace(\"WEST EAST\",'')\n",
        "    dir3 = dir2.split()\n",
        "    return dirReduc(dir3) if len(dir3) < len(arr) else dir3"
      ],
      "execution_count": null,
      "outputs": []
    },
    {
      "cell_type": "code",
      "metadata": {
        "colab": {
          "base_uri": "https://localhost:8080/",
          "height": 35
        },
        "id": "8NeJbqrr7g3f",
        "outputId": "9ab21adb-1cb0-4828-8a3c-7fcc2cf25ad3"
      },
      "source": [
        "b = \"{0:#b}\".format(11)[2:]\n",
        "b"
      ],
      "execution_count": 5,
      "outputs": [
        {
          "output_type": "execute_result",
          "data": {
            "application/vnd.google.colaboratory.intrinsic+json": {
              "type": "string"
            },
            "text/plain": [
              "'1011'"
            ]
          },
          "metadata": {
            "tags": []
          },
          "execution_count": 5
        }
      ]
    },
    {
      "cell_type": "code",
      "metadata": {
        "colab": {
          "base_uri": "https://localhost:8080/"
        },
        "id": "LFO_nrhJ7rgX",
        "outputId": "33d2b9d8-5f04-4baf-deae-8776996df942"
      },
      "source": [
        "s = \"Hello world!\"\n",
        "len(s)"
      ],
      "execution_count": 18,
      "outputs": [
        {
          "output_type": "execute_result",
          "data": {
            "text/plain": [
              "12"
            ]
          },
          "metadata": {
            "tags": []
          },
          "execution_count": 18
        }
      ]
    },
    {
      "cell_type": "code",
      "metadata": {
        "colab": {
          "base_uri": "https://localhost:8080/",
          "height": 35
        },
        "id": "IuBih8ig8ItT",
        "outputId": "bc563b2f-b21b-438f-c6fd-9b248badd63e"
      },
      "source": [
        "m = b * (len(s)//len(b)) + b[:len(s) % len(b)]\n",
        "m"
      ],
      "execution_count": 19,
      "outputs": [
        {
          "output_type": "execute_result",
          "data": {
            "application/vnd.google.colaboratory.intrinsic+json": {
              "type": "string"
            },
            "text/plain": [
              "'101110111011'"
            ]
          },
          "metadata": {
            "tags": []
          },
          "execution_count": 19
        }
      ]
    },
    {
      "cell_type": "code",
      "metadata": {
        "colab": {
          "base_uri": "https://localhost:8080/",
          "height": 239
        },
        "id": "wCEAWLMq9FU3",
        "outputId": "790c5831-978e-4c1f-85fc-a6e77e6c7186"
      },
      "source": [
        "new_s = \"\"\n",
        "for i, j in zip(s, m):\n",
        "    print(i, j)\n",
        "    if not i.isalpha():\n",
        "        new_s += i\n",
        "        continue\n",
        "    if i.isupper() and j == \"1\":\n",
        "        new_s += i.lower()\n",
        "    elif i.islower() and j == \"1\":\n",
        "        new_s += i.upper()\n",
        "    else:\n",
        "        new_s += i\n",
        "new_s\n"
      ],
      "execution_count": 20,
      "outputs": [
        {
          "output_type": "stream",
          "text": [
            "H 1\n",
            "e 0\n",
            "l 1\n",
            "l 1\n",
            "o 1\n",
            "  0\n",
            "w 1\n",
            "o 1\n",
            "r 1\n",
            "l 0\n",
            "d 1\n",
            "! 1\n"
          ],
          "name": "stdout"
        },
        {
          "output_type": "execute_result",
          "data": {
            "application/vnd.google.colaboratory.intrinsic+json": {
              "type": "string"
            },
            "text/plain": [
              "'heLLO WORlD!'"
            ]
          },
          "metadata": {
            "tags": []
          },
          "execution_count": 20
        }
      ]
    },
    {
      "cell_type": "code",
      "metadata": {
        "colab": {
          "base_uri": "https://localhost:8080/"
        },
        "id": "_vH0wHVf_cFd",
        "outputId": "90936872-d624-4c88-de6a-67303a432f60"
      },
      "source": [
        "print('\\n.\\n. .\\n. . .\\n. . . .\\n. . . . .\\n')"
      ],
      "execution_count": 27,
      "outputs": [
        {
          "output_type": "stream",
          "text": [
            "\n",
            ".\n",
            ". .\n",
            ". . .\n",
            ". . . .\n",
            ". . . . .\n",
            "\n"
          ],
          "name": "stdout"
        }
      ]
    },
    {
      "cell_type": "code",
      "metadata": {
        "colab": {
          "base_uri": "https://localhost:8080/"
        },
        "id": "XxRv8C0k-I3Z",
        "outputId": "42d9ebb4-cc90-4277-a718-93c32a680a15"
      },
      "source": [
        "'\\n.\\n. .\\n. . .\\n. . . .\\n. . . . .\\n'.strip().count(\"\\n\")"
      ],
      "execution_count": 25,
      "outputs": [
        {
          "output_type": "execute_result",
          "data": {
            "text/plain": [
              "4"
            ]
          },
          "metadata": {
            "tags": []
          },
          "execution_count": 25
        }
      ]
    },
    {
      "cell_type": "code",
      "metadata": {
        "id": "NzqQuUBK_ND5"
      },
      "source": [
        "ip = \"128.32.10.1\""
      ],
      "execution_count": 37,
      "outputs": []
    },
    {
      "cell_type": "code",
      "metadata": {
        "colab": {
          "base_uri": "https://localhost:8080/",
          "height": 35
        },
        "id": "bCROjmnnB3an",
        "outputId": "da80e53d-d821-4828-a66e-10d753a6a512"
      },
      "source": [
        "new_b = \"\".join([\n",
        "     \"{0:#b}\".format(int(i))[2:].zfill(8)\n",
        "     for i in ip.split(\".\")\n",
        "])\n",
        "new_b"
      ],
      "execution_count": 42,
      "outputs": [
        {
          "output_type": "execute_result",
          "data": {
            "application/vnd.google.colaboratory.intrinsic+json": {
              "type": "string"
            },
            "text/plain": [
              "'10000000001000000000101000000001'"
            ]
          },
          "metadata": {
            "tags": []
          },
          "execution_count": 42
        }
      ]
    },
    {
      "cell_type": "code",
      "metadata": {
        "colab": {
          "base_uri": "https://localhost:8080/"
        },
        "id": "IuVVL1AcCoZY",
        "outputId": "e1b27ce6-6b53-425b-ee2c-cbc5d6982866"
      },
      "source": [
        "int(new_b, 2)"
      ],
      "execution_count": 45,
      "outputs": [
        {
          "output_type": "execute_result",
          "data": {
            "text/plain": [
              "2149583361"
            ]
          },
          "metadata": {
            "tags": []
          },
          "execution_count": 45
        }
      ]
    },
    {
      "cell_type": "code",
      "metadata": {
        "id": "kjbEJ2EDAC-h"
      },
      "source": [
        "def ip_to_int32(ip):\n",
        "    \"\"\"\n",
        "    Take the following IPv4 address: 128.32.10.1 This address has 4 octets\n",
        "    where each octet is a single byte (or 8 bits).\n",
        "\n",
        "    1st octet 128 has the binary representation: 10000000\n",
        "    2nd octet 32 has the binary representation: 00100000\n",
        "    3rd octet 10 has the binary representation: 00001010\n",
        "    4th octet 1 has the binary representation: 00000001\n",
        "    So 128.32.10.1 == 10000000.00100000.00001010.00000001\n",
        "\n",
        "    Because the above IP address has 32 bits, we can represent it as\n",
        "    the 32 bit number: 2149583361.\n",
        "\n",
        "    Write a function ip_to_int32(ip) ( JS: ipToInt32(ip) ) that takes\n",
        "    an IPv4 address and returns a 32 bit number.\n",
        "\n",
        "    ip_to_int32(\"128.32.10.1\") => 2149583361\n",
        "\n",
        "    \"\"\"\n",
        "    addr = ip.split(\".\")\n",
        "    res = int(addr[0]) << 24\n",
        "    res += int(addr[1]) << 16\n",
        "    res += int(addr[2]) << 8\n",
        "    res += int(addr[3])\n",
        "    return res"
      ],
      "execution_count": 46,
      "outputs": []
    }
  ]
}